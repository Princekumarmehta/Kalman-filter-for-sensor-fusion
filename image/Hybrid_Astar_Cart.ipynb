{
 "cells": [
  {
   "cell_type": "markdown",
   "metadata": {},
   "source": [
    "### Import the necessary packages"
   ]
  },
  {
   "cell_type": "code",
   "execution_count": 1,
   "metadata": {},
   "outputs": [],
   "source": [
    "import numpy as np\n",
    "import math\n",
    "import matplotlib.pyplot as plt\n",
    "%matplotlib inline\n",
    "np.set_printoptions(threshold=np.nan)"
   ]
  },
  {
   "cell_type": "markdown",
   "metadata": {},
   "source": [
    "### Vehicle Parameters"
   ]
  },
  {
   "cell_type": "code",
   "execution_count": 2,
   "metadata": {},
   "outputs": [],
   "source": [
    "SPEED = 1.4\n",
    "LENGTH = 1.5\n"
   ]
  },
  {
   "cell_type": "code",
   "execution_count": 3,
   "metadata": {},
   "outputs": [],
   "source": [
    "vehicle_points = np.array([[-1.1, 2],[0, 2],[1.1, 2],[-1.1, 0],[0, 0],[1.1,0],[-1.1, -2],[0, -2],[1.1, -2]])"
   ]
  },
  {
   "cell_type": "code",
   "execution_count": 4,
   "metadata": {},
   "outputs": [],
   "source": [
    "max_angle = 0.785398\n",
    "min_angle = -0.785398"
   ]
  },
  {
   "cell_type": "markdown",
   "metadata": {},
   "source": [
    "### Stat Model"
   ]
  },
  {
   "cell_type": "code",
   "execution_count": 5,
   "metadata": {},
   "outputs": [],
   "source": [
    "class state:\n",
    "\n",
    "    def __init__(self, x, y, theta, g,f, steer):\n",
    "        self.x = x\n",
    "        self.y = y\n",
    "        self.theta = theta\n",
    "        self.g = g\n",
    "        self.f = f\n",
    "        self.steer = steer\n"
   ]
  },
  {
   "cell_type": "markdown",
   "metadata": {},
   "source": [
    "### State Transition"
   ]
  },
  {
   "cell_type": "code",
   "execution_count": 6,
   "metadata": {},
   "outputs": [],
   "source": [
    "def transition(v_state, delta, dt, goal):\n",
    "   \n",
    "    # ---Begin bicycle model---\n",
    "    #delta_rad = deg_to_rad(delta)\n",
    "    omega = SPEED/LENGTH * math.tan(delta)\n",
    "    \n",
    "    \n",
    "    d_x = SPEED * math.cos(v_state.theta) * dt\n",
    "    d_y = SPEED * math.sin(v_state.theta) * dt\n",
    "    \n",
    "    next_x = v_state.x + d_x\n",
    "    next_y = v_state.y + d_y\n",
    "    next_theta = normalize(v_state.theta + (omega*dt)) \n",
    "\n",
    "    # ---End bicycle model-----\n",
    "    next_g = v_state.g + np.sqrt( d_x * d_x +  d_y * d_y )\n",
    "    next_f = next_g+heuristic(next_x, next_y, goal)\n",
    "    next_steer = delta\n",
    "\n",
    "    # Create a new State object with all of the \"next\" values.\n",
    "    new_state = state(next_x, next_y, next_theta, next_g, next_f, next_steer)\n",
    "\n",
    "    return new_state"
   ]
  },
  {
   "cell_type": "markdown",
   "metadata": {},
   "source": [
    "### Grid Resolution"
   ]
  },
  {
   "cell_type": "code",
   "execution_count": 8,
   "metadata": {},
   "outputs": [],
   "source": [
    "grid_x_m = 20\n",
    "grid_y_m = 20\n",
    "\n",
    "coll_cell_side = 1\n",
    "grid_coll_x = np.int( np.ceil(grid_x_m/coll_cell_side) )\n",
    "grid_coll_y = np.int( np.ceil(grid_y_m/coll_cell_side) )\n",
    "\n",
    "grid = np.zeros((grid_coll_x,grid_coll_y), np.int)"
   ]
  },
  {
   "cell_type": "code",
   "execution_count": 9,
   "metadata": {},
   "outputs": [],
   "source": [
    "cell_side = 1.0\n",
    "x_offset = (grid.shape[1]*coll_cell_side)/2\n",
    "y_offset = 0.0\n"
   ]
  },
  {
   "cell_type": "markdown",
   "metadata": {},
   "source": [
    "### A Class to store the state and th index"
   ]
  },
  {
   "cell_type": "code",
   "execution_count": 10,
   "metadata": {},
   "outputs": [],
   "source": [
    "class link:\n",
    "    def __init__(self, inp_state, inp_index):\n",
    "        self.state = inp_state\n",
    "        self.index = inp_index\n",
    "        "
   ]
  },
  {
   "cell_type": "markdown",
   "metadata": {},
   "source": [
    "### Start And Goal"
   ]
  },
  {
   "cell_type": "code",
   "execution_count": 28,
   "metadata": {},
   "outputs": [],
   "source": [
    "class start:\n",
    "\n",
    "    def __init__(self, x, y, theta):\n",
    "        self.x = x\n",
    "        self.y = y\n",
    "        self.theta = theta\n",
    "        \n",
    "class goal:\n",
    "\n",
    "    def __init__(self, x, y):\n",
    "        self.x = x\n",
    "        self.y = y"
   ]
  },
  {
   "cell_type": "markdown",
   "metadata": {},
   "source": [
    "### Helper Functions"
   ]
  },
  {
   "cell_type": "code",
   "execution_count": 12,
   "metadata": {},
   "outputs": [],
   "source": [
    "def deg_to_rad(delta):\n",
    "    return delta * math.pi/180"
   ]
  },
  {
   "cell_type": "code",
   "execution_count": 13,
   "metadata": {},
   "outputs": [],
   "source": [
    "def rad_to_deg(delta):\n",
    "    return delta * 180 / math.pi"
   ]
  },
  {
   "cell_type": "code",
   "execution_count": 14,
   "metadata": {},
   "outputs": [],
   "source": [
    "def heuristic(x,y,goal):\n",
    "    distance  = math.sqrt( ((x-goal.x)**2) + ((y-goal.y)**2) )\n",
    "    return distance"
   ]
  },
  {
   "cell_type": "code",
   "execution_count": 15,
   "metadata": {},
   "outputs": [],
   "source": [
    "def normalize(theta):\n",
    "    if theta < 0:    \n",
    "        theta = theta + 2.0 * math.pi\n",
    "        return theta\n",
    "    if theta > 2*np.pi:    \n",
    "        theta = theta - 2.0 * math.pi\n",
    "        return theta\n",
    "    else:\n",
    "        return theta "
   ]
  },
  {
   "cell_type": "code",
   "execution_count": 16,
   "metadata": {},
   "outputs": [],
   "source": [
    "def rotation(w,t):\n",
    "    y = np.array([[math.cos(t), math.sin(t)], [-math.sin(t), math.cos(t)]])\n",
    "    return np.matmul(w, y)\n",
    "    "
   ]
  },
  {
   "cell_type": "code",
   "execution_count": 17,
   "metadata": {},
   "outputs": [],
   "source": [
    "def transformation(w, x, y,t):\n",
    "    p = np.zeros_like(w)\n",
    "    for i in range(p.shape[0]):\n",
    "        p[i][0:2] = w[i][0:2]+[x,y]\n",
    "        \n",
    "    return rotation(p,(t-np.pi/2))\n",
    "    \n",
    "    "
   ]
  },
  {
   "cell_type": "markdown",
   "metadata": {},
   "source": [
    "### Fill Obstacles in the Grid"
   ]
  },
  {
   "cell_type": "code",
   "execution_count": 18,
   "metadata": {},
   "outputs": [],
   "source": [
    "grid[9][0:18] = 1\n"
   ]
  },
  {
   "cell_type": "code",
   "execution_count": 19,
   "metadata": {
    "scrolled": false
   },
   "outputs": [
    {
     "name": "stdout",
     "output_type": "stream",
     "text": [
      "[[0 0 0 0 0 0 0 0 0 0 0 0 0 0 0 0 0 0 0 0]\n",
      " [0 0 0 0 0 0 0 0 0 0 0 0 0 0 0 0 0 0 0 0]\n",
      " [0 0 0 0 0 0 0 0 0 0 0 0 0 0 0 0 0 0 0 0]\n",
      " [0 0 0 0 0 0 0 0 0 0 0 0 0 0 0 0 0 0 0 0]\n",
      " [0 0 0 0 0 0 0 0 0 0 0 0 0 0 0 0 0 0 0 0]\n",
      " [0 0 0 0 0 0 0 0 0 0 0 0 0 0 0 0 0 0 0 0]\n",
      " [0 0 0 0 0 0 0 0 0 0 0 0 0 0 0 0 0 0 0 0]\n",
      " [0 0 0 0 0 0 0 0 0 0 0 0 0 0 0 0 0 0 0 0]\n",
      " [0 0 0 0 0 0 0 0 0 0 0 0 0 0 0 0 0 0 0 0]\n",
      " [1 1 1 1 1 1 1 1 1 1 1 1 1 1 1 1 1 1 0 0]\n",
      " [0 0 0 0 0 0 0 0 0 0 0 0 0 0 0 0 0 0 0 0]\n",
      " [0 0 0 0 0 0 0 0 0 0 0 0 0 0 0 0 0 0 0 0]\n",
      " [0 0 0 0 0 0 0 0 0 0 0 0 0 0 0 0 0 0 0 0]\n",
      " [0 0 0 0 0 0 0 0 0 0 0 0 0 0 0 0 0 0 0 0]\n",
      " [0 0 0 0 0 0 0 0 0 0 0 0 0 0 0 0 0 0 0 0]\n",
      " [0 0 0 0 0 0 0 0 0 0 0 0 0 0 0 0 0 0 0 0]\n",
      " [0 0 0 0 0 0 0 0 0 0 0 0 0 0 0 0 0 0 0 0]\n",
      " [0 0 0 0 0 0 0 0 0 0 0 0 0 0 0 0 0 0 0 0]\n",
      " [0 0 0 0 0 0 0 0 0 0 0 0 0 0 0 0 0 0 0 0]\n",
      " [0 0 0 0 0 0 0 0 0 0 0 0 0 0 0 0 0 0 0 0]]\n"
     ]
    }
   ],
   "source": [
    "print(grid)"
   ]
  },
  {
   "cell_type": "code",
   "execution_count": 20,
   "metadata": {},
   "outputs": [],
   "source": [
    "def get_grid_coordinates(x, y):\n",
    "    x = x+x_offset\n",
    "    y = y+y_offset\n",
    "    cell_x = math.floor(x/cell_side)\n",
    "    cell_y = math.floor(y/cell_side)\n",
    "    #grid[cell_y, cell_x] = 2\n",
    "    return cell_x, cell_y\n",
    "    "
   ]
  },
  {
   "cell_type": "code",
   "execution_count": 21,
   "metadata": {},
   "outputs": [],
   "source": [
    "def check_occupancy(x, y):\n",
    "    x = x+x_offset\n",
    "    y = y+y_offset\n",
    "    cell_x = math.floor(x/coll_cell_side)\n",
    "    cell_y = math.floor(y/coll_cell_side)\n",
    "    #grid[cell_y, cell_x] = 2\n",
    "    return grid[cell_y, cell_x]\n",
    "    "
   ]
  },
  {
   "cell_type": "code",
   "execution_count": 22,
   "metadata": {},
   "outputs": [],
   "source": [
    "def delta_t(delta, n, off):\n",
    "    #delta = deg_to_rad(delta)#for convenient debugging\n",
    "    #off = deg_to_rad(off)#for convenient debugging\n",
    "    delta_list = []\n",
    "    delta_list.append(delta)\n",
    "    delta_calc = delta\n",
    "    for i in range(0 ,n):\n",
    "        delta_calc += off   \n",
    "        if delta_calc < max_angle:\n",
    "            delta_list.append(delta_calc)\n",
    "        \n",
    "    delta_calc = delta\n",
    "    for i in range(0 ,n):\n",
    "        delta_calc -= off\n",
    "        if min_angle < delta_calc:\n",
    "            delta_list.append(delta_calc)\n",
    "        \n",
    "    return delta_list"
   ]
  },
  {
   "cell_type": "code",
   "execution_count": 23,
   "metadata": {},
   "outputs": [],
   "source": [
    "def checkLimits( x,y ):\n",
    "    \n",
    "    result = True\n",
    "    \n",
    "    if  ( x < -grid_x_m/2 ) | \\\n",
    "        ( y < 0 ) | \\\n",
    "        ( x > grid_x_m/2 ) | \\\n",
    "        ( y > grid_y_m ):\n",
    "        \n",
    "        result = False\n",
    "    \n",
    "    return result"
   ]
  },
  {
   "cell_type": "code",
   "execution_count": 24,
   "metadata": {},
   "outputs": [],
   "source": [
    "def check_closed(x, y, theta):\n",
    "    x = x + x_state_offset\n",
    "    y = y + y_state_offset\n",
    "    \n",
    "    cell_x = math.floor(x/state_cell_side)\n",
    "    cell_y = math.floor(y/state_cell_side)\n",
    "    \n",
    "    cell_theta = math.floor( theta * NUM_THETA_CELLS / (2.0 * np.pi) )\n",
    "    return closed[cell_theta][cell_y][cell_x]\n",
    "    "
   ]
  },
  {
   "cell_type": "code",
   "execution_count": 25,
   "metadata": {},
   "outputs": [],
   "source": [
    "def set_closed(x, y, theta):\n",
    "    x = x + x_state_offset\n",
    "    y = y + y_state_offset\n",
    "    \n",
    "    cell_x = math.floor(x/state_cell_side)\n",
    "    cell_y = math.floor(y/state_cell_side)\n",
    "    \n",
    "    cell_theta = math.floor( theta * NUM_THETA_CELLS / (2.0 * np.pi) )\n",
    "    closed[cell_theta][cell_y][cell_x] = 1\n"
   ]
  },
  {
   "cell_type": "code",
   "execution_count": 29,
   "metadata": {
    "scrolled": true
   },
   "outputs": [],
   "source": [
    "current_state = state(0.0, 2.1, np.pi/2, 0.0, 0.0, 0.0)\n",
    "new_points = np.copy(vehicle_points)\n",
    "#print(new_points)\n",
    "Goal = goal(0.0, 18.0)\n",
    "\n",
    "\n",
    "    "
   ]
  },
  {
   "cell_type": "code",
   "execution_count": 30,
   "metadata": {},
   "outputs": [],
   "source": [
    "state_cell_side = 1\n",
    "grid_state_x = np.int( np.ceil(grid_x_m/state_cell_side) )\n",
    "grid_state_y = np.int( np.ceil(grid_y_m/state_cell_side) )\n",
    "\n",
    "NUM_THETA_CELLS = 360\n",
    "closed = [[[0 for x in range(grid_state_x)] for y in range(grid_state_y)] for cell in range(NUM_THETA_CELLS)]\n",
    "\n",
    "x_state_offset = grid_x_m/2.0\n",
    "y_state_offset = 0.0\n"
   ]
  },
  {
   "cell_type": "code",
   "execution_count": 31,
   "metadata": {},
   "outputs": [],
   "source": [
    "#print(current_state.x, current_state.y, current_state.theta)\n",
    "\n",
    "path_state = current_state\n",
    "open_list = []\n",
    "path_link = link( path_state, 0 )\n",
    "open_list.append( path_link )\n",
    "\n",
    "trace_list = []\n",
    "trace_link = link( path_state, -1 )\n",
    "trace_list.append( trace_link )\n",
    "\n",
    "\n",
    "path_x = []\n",
    "path_y = []\n",
    "\n",
    "path_x.append( current_state.x )\n",
    "path_y.append( current_state.y )\n",
    "\n",
    "\n"
   ]
  },
  {
   "cell_type": "code",
   "execution_count": 32,
   "metadata": {
    "scrolled": true
   },
   "outputs": [
    {
     "name": "stdout",
     "output_type": "stream",
     "text": [
      "goal\n"
     ]
    },
    {
     "data": {
      "image/png": "[encoded data removed]",
      "text/plain": [
       "<matplotlib.figure.Figure at 0x28ad39c8518>"
      ]
     },
     "metadata": {},
     "output_type": "display_data"
    }
   ],
   "source": [
    "goal_reached = 0\n",
    "\n",
    "for count in range(2):\n",
    "    while ( len(open_list) > 0 ) & (goal_reached == 0):\n",
    "\n",
    "        open_list.sort( key=lambda ste:ste.state.f )\n",
    "\n",
    "        path_link = open_list.pop(0)\n",
    "        path_state = path_link.state\n",
    "        path_index = path_link.index\n",
    "\n",
    "       # print( \"\" )\n",
    "        #print( \"Best path\")\n",
    "        #print( path_state.x, path_state.y, path_state.theta, path_state.f )\n",
    "        path_x.append( path_state.x )\n",
    "        path_y.append( path_state.y )\n",
    "\n",
    "\n",
    "        #exit = 0\n",
    "\n",
    "        #while exit == 0:\n",
    "\n",
    "        delta_angle = delta_t( path_state.steer, 5, deg_to_rad(5.0) )\n",
    "        delta_angle = [ 30 * np.pi / 180, 20 * np.pi / 180, 0, -20 * np.pi / 180, -30 * np.pi / 180 ]\n",
    "\n",
    "        #print( delta_angle )\n",
    "\n",
    "        state_list = []\n",
    "\n",
    "        for i in range(len(delta_angle)):\n",
    "            \n",
    "            new_state = transition( path_state, delta_angle[i], 0.1, Goal)\n",
    "            \n",
    "            #print( new_state.x, new_state.y, new_state.theta )\n",
    "            if check_closed( new_state.x, new_state.y, new_state.theta ) == 0:\n",
    "                if checkLimits( new_state.x , new_state.y ) == True:\n",
    "                    state_list.append(new_state)\n",
    "                    set_closed( new_state.x, new_state.y, new_state.theta )\n",
    "                    \n",
    "                    #print( new_state.x, new_state.y, new_state.steer )\n",
    "\n",
    "        collision_free = []\n",
    "\n",
    "        for i in range(len(state_list)):\n",
    "\n",
    "            check = 0\n",
    "            #new_points = transformation(vehicle_points, state_list[i].x, state_list[i].y, state_list[i].theta)\n",
    "            new_points = [ [ state_list[i].x, state_list[i].y ] ]\n",
    "            \n",
    "            for point in new_points :\n",
    "                if checkLimits(point[0],point[1]) == True:\n",
    "\n",
    "                    get_x, get_y = get_grid_coordinates(point[0], point[1])\n",
    "                    \n",
    "                    check = check_occupancy(point[0], point[1])\n",
    "                   \n",
    "                else :\n",
    "                    check =1\n",
    "\n",
    "                if check == 1:\n",
    "                \n",
    "                   break\n",
    "\n",
    "            if check == 0:\n",
    "                collision_free.append(state_list[i])\n",
    "                \n",
    "\n",
    "        if( collision_free ):\n",
    "\n",
    "            for nstate in collision_free:\n",
    "                \n",
    "                #print( nstate.x, nstate.y, nstate.theta )\n",
    "                new_link = link( nstate, len(trace_list) )\n",
    "                open_list.append( new_link )\n",
    "                \n",
    "                trace_link = link( nstate, path_index )\n",
    "                trace_list.append( trace_link )\n",
    "                          \n",
    "                \n",
    "                if np.sqrt((nstate.x - Goal.x)**2 + (nstate.y - Goal.y)**2) < 0.5:\n",
    "                    goal_reached = 1\n",
    "                    path_x.append( nstate.x )\n",
    "                    path_y.append( nstate.y )\n",
    "                    print( \"goal\")\n",
    "                    \n",
    "\n",
    "\n",
    "            #path_state = collision_free[0]\n",
    "\n",
    "            #if checkLimits( path_state ) == True:\n",
    "            #    path_x.append( path_state.x )\n",
    "            #    path_y.append( path_state.y )\n",
    "\n",
    "                #print( path_state.x, path_state.y )\n",
    "\n",
    "\n",
    "    #print( \"\" )\n",
    "    #print( \"Ostates\")\n",
    "    #for ostate in open_list:\n",
    "\n",
    "       # print( ostate.x, ostate.y, ostate.theta, ostate.f )\n",
    "\n",
    "plt.scatter( path_x, path_y )\n",
    "plt.axis('equal')\n",
    "plt.show()\n",
    "        \n",
    "    \n",
    "#print(current_state.x, current_state.y, current_state.theta)\n",
    "#print(new_points)\n",
    "#grid_v = np.copy(grid)\n",
    "\n",
    "#    if check == 1:\n",
    "#        break\n",
    "\n",
    "#if check == 0:\n",
    "#    print(grid_v)\n",
    "\n",
    "#print(grid_v)\n",
    "\n",
    "#plt.scatter(px,py)\n",
    "\n",
    "\n",
    "\n",
    "\n",
    "\n",
    "\n",
    "\n",
    "\n",
    "\n",
    "\n",
    "\n",
    "\n",
    "\n",
    "\n",
    "\n",
    "\n",
    "\n",
    "\n",
    "#plt.show()"
   ]
  },
  {
   "cell_type": "code",
   "execution_count": 33,
   "metadata": {},
   "outputs": [
    {
     "data": {
      "image/png": "[encoded data removed]",
      "text/plain": [
       "<matplotlib.figure.Figure at 0x28ad392f940>"
      ]
     },
     "metadata": {},
     "output_type": "display_data"
    }
   ],
   "source": [
    "if goal_reached == 1 :\n",
    "        fpath_x = []\n",
    "        fpath_y = []\n",
    "        \n",
    "        curr_trace = trace_list[-1]\n",
    "        \n",
    "        while( curr_trace.index != -1 ):\n",
    "            fpath_x.append( curr_trace.state.x )\n",
    "            fpath_y.append( curr_trace.state.y )\n",
    "            \n",
    "            curr_trace = trace_list[ curr_trace.index ]\n",
    "            \n",
    "plt.scatter( fpath_x, fpath_y )\n",
    "plt.axis( 'equal' )\n",
    "plt.show()\n",
    "    "
   ]
  },
  {
   "cell_type": "code",
   "execution_count": 35,
   "metadata": {},
   "outputs": [
    {
     "data": {
      "image/png": "[encoded data removed]",
      "text/plain": [
       "<matplotlib.figure.Figure at 0x28ad5104c88>"
      ]
     },
     "metadata": {},
     "output_type": "display_data"
    }
   ],
   "source": [
    "steer = 50 * np.pi / 180\n",
    "cstate = state( 0, 0, np.pi/2, 0, 0, steer )\n",
    "px = [] \n",
    "py = []\n",
    "\n",
    "px.append( cstate.x )\n",
    "py.append( cstate.y )\n",
    "\n",
    "for i in range(150):\n",
    "    cstate = transition( cstate, steer, 0.1, Goal)\n",
    "    px.append( cstate.x )\n",
    "    py.append( cstate.y )\n",
    "    \n",
    "plt.scatter( px, py, c='green' )\n",
    "#plt.show()\n",
    "    \n",
    "    \n",
    "steer = 50 * np.pi / 180\n",
    "cstate = state( 0, 0, np.pi/2, 0, 0, steer )\n",
    "px = [] \n",
    "py = []\n",
    "\n",
    "px.append( cstate.x )\n",
    "py.append( cstate.y )\n",
    "\n",
    "for i in range(150):\n",
    "    cstate = transition( cstate, steer, 0.1, Goal)\n",
    "    px.append( cstate.x )\n",
    "    py.append( cstate.y )\n",
    "    \n",
    "plt.scatter( px, py, c='red' )\n",
    "\n",
    "plt.axis('equal')\n",
    "plt.show()\n",
    "    \n",
    "    \n",
    "    "
   ]
  },
  {
   "cell_type": "code",
   "execution_count": null,
   "metadata": {},
   "outputs": [],
   "source": []
  }
 ],
 "metadata": {
  "kernelspec": {
   "display_name": "Python 3",
   "language": "python",
   "name": "python3"
  },
  "language_info": {
   "codemirror_mode": {
    "name": "ipython",
    "version": 3
   },
   "file_extension": ".py",
   "mimetype": "text/x-python",
   "name": "python",
   "nbconvert_exporter": "python",
   "pygments_lexer": "ipython3",
   "version": "3.5.2"
  },
  "widgets": {
   "state": {},
   "version": "1.1.2"
  }
 },
 "nbformat": 4,
 "nbformat_minor": 2
}
