{
 "cells": [
  {
   "cell_type": "code",
   "execution_count": 191,
   "metadata": {},
   "outputs": [],
   "source": [
    "import numpy as np\n",
    "import math\n",
    "import matplotlib.pyplot as plt\n",
    "%matplotlib inline\n",
    "np.set_printoptions(threshold=np.nan)"
   ]
  },
  {
   "cell_type": "code",
   "execution_count": 2387,
   "metadata": {
    "collapsed": true
   },
   "outputs": [],
   "source": [
    "SPEED = 1.4\n",
    "LENGTH = 1.5\n"
   ]
  },
  {
   "cell_type": "code",
   "execution_count": 2494,
   "metadata": {},
   "outputs": [],
   "source": [
    "class link:\n",
    "    def __init__(self, inp_state, inp_index):\n",
    "        self.state = inp_state\n",
    "        self.index = inp_index\n",
    "        "
   ]
  },
  {
   "cell_type": "code",
   "execution_count": 3,
   "metadata": {
    "collapsed": true
   },
   "outputs": [],
   "source": [
    "def rad_to_deg(delta):\n",
    "    return delta * 180 / math.pi"
   ]
  },
  {
   "cell_type": "code",
   "execution_count": 4,
   "metadata": {
    "collapsed": true
   },
   "outputs": [],
   "source": [
    "def deg_to_rad(delta):\n",
    "    return delta * math.pi/180"
   ]
  },
  {
   "cell_type": "code",
   "execution_count": 916,
   "metadata": {
    "collapsed": true
   },
   "outputs": [],
   "source": [
    "class state:\n",
    "\n",
    "    def __init__(self, x, y, theta, g,f, steer):\n",
    "        self.x = x\n",
    "        self.y = y\n",
    "        self.theta = theta\n",
    "        self.g = g\n",
    "        self.f = f\n",
    "        self.steer = steer\n"
   ]
  },
  {
   "cell_type": "code",
   "execution_count": 2390,
   "metadata": {
    "collapsed": true
   },
   "outputs": [],
   "source": [
    "def normalize(theta):\n",
    "    if theta < 0:    \n",
    "        theta = theta + 2.0 * math.pi\n",
    "        return theta\n",
    "    if theta > 2*np.pi:    \n",
    "        theta = theta - 2.0 * math.pi\n",
    "        return theta\n",
    "    else:\n",
    "        return theta "
   ]
  },
  {
   "cell_type": "code",
   "execution_count": 2227,
   "metadata": {
    "collapsed": true
   },
   "outputs": [],
   "source": [
    "def heuristic(x,y,goal):\n",
    "    distance  = math.sqrt( ((x-goal.x)**2) + ((y-goal.y)**2) )\n",
    "    return distance"
   ]
  },
  {
   "cell_type": "code",
   "execution_count": 739,
   "metadata": {
    "collapsed": true
   },
   "outputs": [],
   "source": [
    "def expand(v_state, goal):\n",
    "    next_states = []\n",
    "    for delta in range(-35, 40, 5): \n",
    "        # Create a trajectory with delta as the steering angle using the bicycle model:\n",
    "\n",
    "        # ---Begin bicycle model---\n",
    "        delta_rad = deg_to_rad(delta)\n",
    "        omega = SPEED/LENGTH * delta_rad\n",
    "        \n",
    "        d_x = SPEED * math.cos(v_state.theta)\n",
    "        d_y = SPEED * math.sin(v_state.theta)\n",
    "        next_x = v_state.x + d_x\n",
    "        next_y = v_state.y + d_y\n",
    "        next_theta = normalize(v_state.theta + (omega))\n",
    "        \n",
    "        # ---End bicycle model-----\n",
    "        next_g = v_state.g + np.sqrt( d_x * d_x +  d_y * d_y )\n",
    "        next_f = next_g + heuristic(next_x, next_y, goal)\n",
    "\n",
    "        # Create a new State object with all of the \"next\" values.\n",
    "        new_state = state(next_x, next_y, next_theta, next_g, next_f)\n",
    "        next_states.append(new_state)\n",
    "\n",
    "    return next_states"
   ]
  },
  {
   "cell_type": "code",
   "execution_count": 2391,
   "metadata": {
    "collapsed": true
   },
   "outputs": [],
   "source": [
    "def transition(v_state, delta, dt, goal):\n",
    "   \n",
    "    # ---Begin bicycle model---\n",
    "    #delta_rad = deg_to_rad(delta)\n",
    "    omega = SPEED/LENGTH * math.tan(delta)\n",
    "    \n",
    "    \n",
    "    d_x = SPEED * math.cos(v_state.theta) * dt\n",
    "    d_y = SPEED * math.sin(v_state.theta) * dt\n",
    "    \n",
    "    next_x = v_state.x + d_x\n",
    "    next_y = v_state.y + d_y\n",
    "    next_theta = normalize(v_state.theta + (omega*dt)) \n",
    "\n",
    "    # ---End bicycle model-----\n",
    "    next_g = v_state.g + np.sqrt( d_x * d_x +  d_y * d_y )\n",
    "    next_f = next_g+heuristic(next_x, next_y, goal)\n",
    "    next_steer = delta\n",
    "\n",
    "    # Create a new State object with all of the \"next\" values.\n",
    "    new_state = state(next_x, next_y, next_theta, next_g, next_f, next_steer)\n",
    "\n",
    "    return new_state"
   ]
  },
  {
   "cell_type": "code",
   "execution_count": 1899,
   "metadata": {
    "collapsed": true
   },
   "outputs": [],
   "source": [
    "w = np.array([[1, 0],[-1,0]])"
   ]
  },
  {
   "cell_type": "code",
   "execution_count": 1900,
   "metadata": {
    "collapsed": true
   },
   "outputs": [],
   "source": [
    "vehicle_points = np.array([[-1.1, 2],[0, 2],[1.1, 2],[-1.1, 0],[0, 0],[1.1,0],[-1.1, -2],[0, -2],[1.1, -2]])"
   ]
  },
  {
   "cell_type": "code",
   "execution_count": 15,
   "metadata": {
    "collapsed": true
   },
   "outputs": [],
   "source": [
    "def rotation(w,t):\n",
    "    y = np.array([[math.cos(t), math.sin(t)], [-math.sin(t), math.cos(t)]])\n",
    "    return np.matmul(w, y)\n",
    "    "
   ]
  },
  {
   "cell_type": "code",
   "execution_count": 16,
   "metadata": {
    "collapsed": true
   },
   "outputs": [],
   "source": [
    "def transformation(w, x, y,t):\n",
    "    p = np.zeros_like(w)\n",
    "    for i in range(p.shape[0]):\n",
    "        p[i][0:2] = w[i][0:2]+[x,y]\n",
    "        \n",
    "    return rotation(p,(t-np.pi/2))\n",
    "    \n",
    "    "
   ]
  },
  {
   "cell_type": "code",
   "execution_count": 1359,
   "metadata": {},
   "outputs": [
    {
     "data": {
      "text/plain": [
       "array([[-0.1,  2. ],\n",
       "       [ 1. ,  2. ],\n",
       "       [ 2.1,  2. ],\n",
       "       [-0.1,  0. ],\n",
       "       [ 1. ,  0. ],\n",
       "       [ 2.1,  0. ],\n",
       "       [-0.1, -2. ],\n",
       "       [ 1. , -2. ],\n",
       "       [ 2.1, -2. ]])"
      ]
     },
     "execution_count": 1359,
     "metadata": {},
     "output_type": "execute_result"
    }
   ],
   "source": [
    "transformation(vehicle_points, 1.0, 0.0, np.pi/2)"
   ]
  },
  {
   "cell_type": "code",
   "execution_count": 20,
   "metadata": {},
   "outputs": [
    {
     "name": "stdout",
     "output_type": "stream",
     "text": [
      "[[  2.00000000e+00   1.10000000e+00]\n",
      " [  2.00000000e+00   1.22464680e-16]\n",
      " [  2.00000000e+00  -1.10000000e+00]\n",
      " [ -6.73555740e-17   1.10000000e+00]\n",
      " [  0.00000000e+00   0.00000000e+00]\n",
      " [  6.73555740e-17  -1.10000000e+00]\n",
      " [ -2.00000000e+00   1.10000000e+00]\n",
      " [ -2.00000000e+00  -1.22464680e-16]\n",
      " [ -2.00000000e+00  -1.10000000e+00]]\n"
     ]
    }
   ],
   "source": [
    "print(rotation(vehicle_points, deg_to_rad(-90)))"
   ]
  },
  {
   "cell_type": "code",
   "execution_count": 793,
   "metadata": {
    "collapsed": true
   },
   "outputs": [],
   "source": [
    "grid_x_m = 20\n",
    "grid_y_m = 20\n",
    "\n",
    "coll_cell_side = 1\n",
    "grid_coll_x = np.int( np.ceil(grid_x_m/coll_cell_side) )\n",
    "grid_coll_y = np.int( np.ceil(grid_y_m/coll_cell_side) )\n",
    "\n",
    "grid = np.zeros((grid_coll_x,grid_coll_y), np.int)"
   ]
  },
  {
   "cell_type": "code",
   "execution_count": 800,
   "metadata": {},
   "outputs": [],
   "source": []
  },
  {
   "cell_type": "code",
   "execution_count": 801,
   "metadata": {
    "collapsed": true
   },
   "outputs": [],
   "source": [
    "grid[9][0:18] = 1\n"
   ]
  },
  {
   "cell_type": "code",
   "execution_count": 802,
   "metadata": {
    "scrolled": false
   },
   "outputs": [
    {
     "name": "stdout",
     "output_type": "stream",
     "text": [
      "[[0 0 0 0 0 0 0 0 0 0 0 0 0 0 0 0 0 0 0 0]\n",
      " [0 0 0 0 0 0 0 0 0 0 0 0 0 0 0 0 0 0 0 0]\n",
      " [0 0 0 0 0 0 0 0 0 0 0 0 0 0 0 0 0 0 0 0]\n",
      " [0 0 0 0 0 0 0 0 0 0 0 0 0 0 0 0 0 0 0 0]\n",
      " [0 0 0 0 0 0 0 0 0 0 0 0 0 0 0 0 0 0 0 0]\n",
      " [0 0 0 0 0 0 0 0 0 0 0 0 0 0 0 0 0 0 0 0]\n",
      " [0 0 0 0 0 0 0 0 0 0 0 0 0 0 0 0 0 0 0 0]\n",
      " [0 0 0 0 0 0 0 0 0 0 0 0 0 0 0 0 0 0 0 0]\n",
      " [0 0 0 0 0 0 0 0 0 0 0 0 0 0 0 0 0 0 0 0]\n",
      " [1 1 1 1 1 1 1 1 1 1 1 1 1 1 1 1 1 1 0 0]\n",
      " [0 0 0 0 0 0 0 0 0 0 0 0 0 0 0 0 0 0 0 0]\n",
      " [0 0 0 0 0 0 0 0 0 0 0 0 0 0 0 0 0 0 0 0]\n",
      " [0 0 0 0 0 0 0 0 0 0 0 0 0 0 0 0 0 0 0 0]\n",
      " [0 0 0 0 0 0 0 0 0 0 0 0 0 0 0 0 0 0 0 0]\n",
      " [0 0 0 0 0 0 0 0 0 0 0 0 0 0 0 0 0 0 0 0]\n",
      " [0 0 0 0 0 0 0 0 0 0 0 0 0 0 0 0 0 0 0 0]\n",
      " [0 0 0 0 0 0 0 0 0 0 0 0 0 0 0 0 0 0 0 0]\n",
      " [0 0 0 0 0 0 0 0 0 0 0 0 0 0 0 0 0 0 0 0]\n",
      " [0 0 0 0 0 0 0 0 0 0 0 0 0 0 0 0 0 0 0 0]\n",
      " [0 0 0 0 0 0 0 0 0 0 0 0 0 0 0 0 0 0 0 0]]\n"
     ]
    }
   ],
   "source": [
    "print(grid)"
   ]
  },
  {
   "cell_type": "code",
   "execution_count": 1361,
   "metadata": {},
   "outputs": [],
   "source": [
    "cell_side = 1.0\n",
    "x_offset = (grid.shape[1]*coll_cell_side)/2\n",
    "y_offset = 0.0\n"
   ]
  },
  {
   "cell_type": "code",
   "execution_count": 1362,
   "metadata": {
    "collapsed": true
   },
   "outputs": [],
   "source": [
    "def get_grid_coordinates(x, y):\n",
    "    x = x+x_offset\n",
    "    y = y+y_offset\n",
    "    cell_x = math.floor(x/cell_side)\n",
    "    cell_y = math.floor(y/cell_side)\n",
    "    #grid[cell_y, cell_x] = 2\n",
    "    return cell_x, cell_y\n",
    "    "
   ]
  },
  {
   "cell_type": "code",
   "execution_count": 1363,
   "metadata": {
    "collapsed": true
   },
   "outputs": [],
   "source": [
    "def check_occupancy(x, y):\n",
    "    x = x+x_offset\n",
    "    y = y+y_offset\n",
    "    cell_x = math.floor(x/coll_cell_side)\n",
    "    cell_y = math.floor(y/coll_cell_side)\n",
    "    #grid[cell_y, cell_x] = 2\n",
    "    return grid[cell_y, cell_x]\n",
    "    "
   ]
  },
  {
   "cell_type": "code",
   "execution_count": 2151,
   "metadata": {},
   "outputs": [],
   "source": [
    "def delta_t(delta, n, off):\n",
    "    #delta = deg_to_rad(delta)#for convenient debugging\n",
    "    #off = deg_to_rad(off)#for convenient debugging\n",
    "    delta_list = []\n",
    "    delta_list.append(delta)\n",
    "    delta_calc = delta\n",
    "    for i in range(0 ,n):\n",
    "        delta_calc += off   \n",
    "        if delta_calc < max_angle:\n",
    "            delta_list.append(delta_calc)\n",
    "        \n",
    "    delta_calc = delta\n",
    "    for i in range(0 ,n):\n",
    "        delta_calc -= off\n",
    "        if min_angle < delta_calc:\n",
    "            delta_list.append(delta_calc)\n",
    "        \n",
    "    return delta_list"
   ]
  },
  {
   "cell_type": "code",
   "execution_count": 2310,
   "metadata": {},
   "outputs": [],
   "source": [
    "def checkLimits( x,y ):\n",
    "    \n",
    "    result = True\n",
    "    \n",
    "    if  ( x < -grid_x_m/2 ) | \\\n",
    "        ( y < 0 ) | \\\n",
    "        ( x > grid_x_m/2 ) | \\\n",
    "        ( y > grid_y_m ):\n",
    "        \n",
    "        result = False\n",
    "    \n",
    "    return result"
   ]
  },
  {
   "cell_type": "code",
   "execution_count": 2317,
   "metadata": {
    "collapsed": true
   },
   "outputs": [],
   "source": [
    "max_angle = 0.785398\n",
    "min_angle = -0.785398"
   ]
  },
  {
   "cell_type": "code",
   "execution_count": 2478,
   "metadata": {
    "collapsed": true
   },
   "outputs": [],
   "source": [
    "def check_closed(x, y, theta):\n",
    "    x = x + x_state_offset\n",
    "    y = y + y_state_offset\n",
    "    \n",
    "    cell_x = math.floor(x/state_cell_side)\n",
    "    cell_y = math.floor(y/state_cell_side)\n",
    "    \n",
    "    cell_theta = math.floor( theta * NUM_THETA_CELLS / (2.0 * np.pi) )\n",
    "    return closed[cell_theta][cell_y][cell_x]\n",
    "    "
   ]
  },
  {
   "cell_type": "code",
   "execution_count": 2479,
   "metadata": {
    "collapsed": true
   },
   "outputs": [],
   "source": [
    "def set_closed(x, y, theta):\n",
    "    x = x + x_state_offset\n",
    "    y = y + y_state_offset\n",
    "    \n",
    "    cell_x = math.floor(x/state_cell_side)\n",
    "    cell_y = math.floor(y/state_cell_side)\n",
    "    \n",
    "    cell_theta = math.floor( theta * NUM_THETA_CELLS / (2.0 * np.pi) )\n",
    "    closed[cell_theta][cell_y][cell_x] = 1\n"
   ]
  },
  {
   "cell_type": "code",
   "execution_count": 2495,
   "metadata": {},
   "outputs": [],
   "source": [
    "state_cell_side = 1\n",
    "grid_state_x = np.int( np.ceil(grid_x_m/state_cell_side) )\n",
    "grid_state_y = np.int( np.ceil(grid_y_m/state_cell_side) )\n",
    "\n",
    "NUM_THETA_CELLS = 360\n",
    "closed = [[[0 for x in range(grid_state_x)] for y in range(grid_state_y)] for cell in range(NUM_THETA_CELLS)]\n",
    "\n",
    "x_state_offset = grid_x_m/2.0\n",
    "y_state_offset = 0.0\n"
   ]
  },
  {
   "cell_type": "code",
   "execution_count": 2496,
   "metadata": {
    "scrolled": true
   },
   "outputs": [],
   "source": [
    "current_state = state(0.0, 2.1, np.pi/2, 0.0, 0.0, 0.0)\n",
    "new_points = np.copy(vehicle_points)\n",
    "#print(new_points)\n",
    "\n",
    "Goal.x = 0.0\n",
    "Goal.y = 18.0\n",
    "    "
   ]
  },
  {
   "cell_type": "code",
   "execution_count": 2497,
   "metadata": {
    "collapsed": true
   },
   "outputs": [],
   "source": [
    "#print(current_state.x, current_state.y, current_state.theta)\n",
    "\n",
    "path_state = current_state\n",
    "open_list = []\n",
    "path_link = link( path_state, 0 )\n",
    "open_list.append( path_link )\n",
    "\n",
    "trace_list = []\n",
    "trace_link = link( path_state, -1 )\n",
    "trace_list.append( trace_link )\n",
    "\n",
    "\n",
    "path_x = []\n",
    "path_y = []\n",
    "\n",
    "path_x.append( current_state.x )\n",
    "path_y.append( current_state.y )\n",
    "\n",
    "\n"
   ]
  },
  {
   "cell_type": "code",
   "execution_count": 2498,
   "metadata": {
    "scrolled": true
   },
   "outputs": [
    {
     "name": "stdout",
     "output_type": "stream",
     "text": [
      "goal\n"
     ]
    },
    {
     "data": {
      "image/png": "[encoded data removed]",
      "text/plain": [
       "<matplotlib.figure.Figure at 0x7f948023bb00>"
      ]
     },
     "metadata": {},
     "output_type": "display_data"
    }
   ],
   "source": [
    "goal_reached = 0\n",
    "\n",
    "for count in range(2):\n",
    "    while ( len(open_list) > 0 ) & (goal_reached == 0):\n",
    "\n",
    "        open_list.sort( key=lambda ste:ste.state.f )\n",
    "\n",
    "        path_link = open_list.pop(0)\n",
    "        path_state = path_link.state\n",
    "        path_index = path_link.index\n",
    "\n",
    "       # print( \"\" )\n",
    "        #print( \"Best path\")\n",
    "        #print( path_state.x, path_state.y, path_state.theta, path_state.f )\n",
    "        path_x.append( path_state.x )\n",
    "        path_y.append( path_state.y )\n",
    "\n",
    "\n",
    "        #exit = 0\n",
    "\n",
    "        #while exit == 0:\n",
    "\n",
    "        delta_angle = delta_t( path_state.steer, 5, deg_to_rad(5.0) )\n",
    "        delta_angle = [ 30 * np.pi / 180, 20 * np.pi / 180, 0, -20 * np.pi / 180, -30 * np.pi / 180 ]\n",
    "\n",
    "        #print( delta_angle )\n",
    "\n",
    "        state_list = []\n",
    "\n",
    "        for i in range(len(delta_angle)):\n",
    "            \n",
    "            new_state = transition( path_state, delta_angle[i], 0.1, Goal)\n",
    "            \n",
    "            #print( new_state.x, new_state.y, new_state.theta )\n",
    "            if check_closed( new_state.x, new_state.y, new_state.theta ) == 0:\n",
    "                if checkLimits( new_state.x , new_state.y ) == True:\n",
    "                    state_list.append(new_state)\n",
    "                    set_closed( new_state.x, new_state.y, new_state.theta )\n",
    "                    \n",
    "                    #print( new_state.x, new_state.y, new_state.steer )\n",
    "\n",
    "        collision_free = []\n",
    "\n",
    "        for i in range(len(state_list)):\n",
    "\n",
    "            check = 0\n",
    "            #new_points = transformation(vehicle_points, state_list[i].x, state_list[i].y, state_list[i].theta)\n",
    "            new_points = [ [ state_list[i].x, state_list[i].y ] ]\n",
    "            \n",
    "            for point in new_points :\n",
    "                if checkLimits(point[0],point[1]) == True:\n",
    "\n",
    "                    get_x, get_y = get_grid_coordinates(point[0], point[1])\n",
    "                    \n",
    "                    check = check_occupancy(point[0], point[1])\n",
    "                   \n",
    "                else :\n",
    "                    check =1\n",
    "\n",
    "                if check == 1:\n",
    "                \n",
    "                   break\n",
    "\n",
    "            if check == 0:\n",
    "                collision_free.append(state_list[i])\n",
    "                \n",
    "\n",
    "        if( collision_free ):\n",
    "\n",
    "            for nstate in collision_free:\n",
    "                \n",
    "                #print( nstate.x, nstate.y, nstate.theta )\n",
    "                new_link = link( nstate, len(trace_list) )\n",
    "                open_list.append( new_link )\n",
    "                \n",
    "                trace_link = link( nstate, path_index )\n",
    "                trace_list.append( trace_link )\n",
    "                          \n",
    "                \n",
    "                if np.sqrt((nstate.x - Goal.x)**2 + (nstate.y - Goal.y)**2) < 0.5:\n",
    "                    goal_reached = 1\n",
    "                    path_x.append( nstate.x )\n",
    "                    path_y.append( nstate.y )\n",
    "                    print( \"goal\")\n",
    "                    \n",
    "\n",
    "\n",
    "            #path_state = collision_free[0]\n",
    "\n",
    "            #if checkLimits( path_state ) == True:\n",
    "            #    path_x.append( path_state.x )\n",
    "            #    path_y.append( path_state.y )\n",
    "\n",
    "                #print( path_state.x, path_state.y )\n",
    "\n",
    "\n",
    "    #print( \"\" )\n",
    "    #print( \"Ostates\")\n",
    "    #for ostate in open_list:\n",
    "\n",
    "       # print( ostate.x, ostate.y, ostate.theta, ostate.f )\n",
    "\n",
    "plt.scatter( path_x, path_y )\n",
    "plt.axis('equal')\n",
    "plt.show()\n",
    "        \n",
    "    \n",
    "#print(current_state.x, current_state.y, current_state.theta)\n",
    "#print(new_points)\n",
    "#grid_v = np.copy(grid)\n",
    "\n",
    "#    if check == 1:\n",
    "#        break\n",
    "\n",
    "#if check == 0:\n",
    "#    print(grid_v)\n",
    "\n",
    "#print(grid_v)\n",
    "\n",
    "#plt.scatter(px,py)\n",
    "\n",
    "\n",
    "\n",
    "\n",
    "\n",
    "\n",
    "\n",
    "\n",
    "\n",
    "\n",
    "\n",
    "\n",
    "\n",
    "\n",
    "\n",
    "\n",
    "\n",
    "\n",
    "#plt.show()"
   ]
  },
  {
   "cell_type": "code",
   "execution_count": 2499,
   "metadata": {},
   "outputs": [
    {
     "data": {
      "image/png": "[encoded data removed]",
      "text/plain": [
       "<matplotlib.figure.Figure at 0x7f9480120a58>"
      ]
     },
     "metadata": {},
     "output_type": "display_data"
    }
   ],
   "source": [
    "if goal_reached == 1 :\n",
    "        fpath_x = []\n",
    "        fpath_y = []\n",
    "        \n",
    "        curr_trace = trace_list[-1]\n",
    "        \n",
    "        while( curr_trace.index != -1 ):\n",
    "            fpath_x.append( curr_trace.state.x )\n",
    "            fpath_y.append( curr_trace.state.y )\n",
    "            \n",
    "            curr_trace = trace_list[ curr_trace.index ]\n",
    "            \n",
    "plt.scatter( fpath_x, fpath_y )\n",
    "plt.axis( 'equal' )\n",
    "plt.show()\n",
    "    "
   ]
  },
  {
   "cell_type": "code",
   "execution_count": 2477,
   "metadata": {},
   "outputs": [
    {
     "name": "stdout",
     "output_type": "stream",
     "text": [
      "719\n"
     ]
    }
   ],
   "source": [
    "print( math.floor( 6.277231820095903 * NUM_THETA_CELLS / np.pi ) )\n"
   ]
  },
  {
   "cell_type": "code",
   "execution_count": 2472,
   "metadata": {},
   "outputs": [
    {
     "data": {
      "image/png": "[encoded data removed]",
      "text/plain": [
       "<matplotlib.figure.Figure at 0x7f9480017ba8>"
      ]
     },
     "metadata": {},
     "output_type": "display_data"
    }
   ],
   "source": [
    "plt.scatter( path_x, path_y )\n",
    "plt.axis('equal')\n",
    "plt.show()"
   ]
  },
  {
   "cell_type": "code",
   "execution_count": 2461,
   "metadata": {},
   "outputs": [
    {
     "data": {
      "image/png": "[encoded data removed]",
      "text/plain": [
       "<matplotlib.figure.Figure at 0x7f9480749358>"
      ]
     },
     "metadata": {},
     "output_type": "display_data"
    }
   ],
   "source": [
    "steer = 50 * np.pi / 180\n",
    "cstate = state( 0, 0, np.pi/2, 0, 0, steer )\n",
    "px = [] \n",
    "py = []\n",
    "\n",
    "px.append( cstate.x )\n",
    "py.append( cstate.y )\n",
    "\n",
    "for i in range(150):\n",
    "    cstate = transition( cstate, steer, 0.1, Goal)\n",
    "    px.append( cstate.x )\n",
    "    py.append( cstate.y )\n",
    "    \n",
    "plt.scatter( px, py, c='green' )\n",
    "#plt.show()\n",
    "    \n",
    "    \n",
    "steer = 50 * np.pi / 180\n",
    "cstate = state( 0, 0, np.pi/2, 0, 0, steer )\n",
    "px = [] \n",
    "py = []\n",
    "\n",
    "px.append( cstate.x )\n",
    "py.append( cstate.y )\n",
    "\n",
    "for i in range(150):\n",
    "    cstate = transition_tan( cstate, steer, 0.1, Goal)\n",
    "    px.append( cstate.x )\n",
    "    py.append( cstate.y )\n",
    "    \n",
    "plt.scatter( px, py, c='red' )\n",
    "\n",
    "plt.axis('equal')\n",
    "plt.show()\n",
    "    \n",
    "    \n",
    "    "
   ]
  },
  {
   "cell_type": "code",
   "execution_count": 2257,
   "metadata": {},
   "outputs": [
    {
     "data": {
      "text/plain": [
       "True"
      ]
     },
     "execution_count": 2257,
     "metadata": {},
     "output_type": "execute_result"
    }
   ],
   "source": [
    "checkLimits(1.12514434592, 0.594684959317)"
   ]
  },
  {
   "cell_type": "code",
   "execution_count": 2004,
   "metadata": {},
   "outputs": [
    {
     "name": "stdout",
     "output_type": "stream",
     "text": [
      "[[ 4.81600472 -0.31940363]\n",
      " [ 4.75204541 -1.4175426 ]\n",
      " [ 4.6880861  -2.51568158]\n",
      " [ 2.8193884  -0.20311397]\n",
      " [ 2.75542909 -1.30125294]\n",
      " [ 2.69146978 -2.39939192]\n",
      " [ 0.82277209 -0.08682431]\n",
      " [ 0.75881278 -1.18496329]\n",
      " [ 0.69485346 -2.28310226]]\n"
     ]
    },
    {
     "data": {
      "image/png": "[encoded data removed]",
      "text/plain": [
       "<matplotlib.figure.Figure at 0x7f9480988dd8>"
      ]
     },
     "metadata": {},
     "output_type": "display_data"
    }
   ],
   "source": [
    "print( new_points )\n",
    "px = []\n",
    "py = []\n",
    "for i in range(len(new_points)):\n",
    "    px.append( new_points[i][0] )\n",
    "    py.append( new_points[i][1] )\n",
    "\n",
    "plt.scatter(px,py)\n",
    "plt.show()"
   ]
  },
  {
   "cell_type": "code",
   "execution_count": 2005,
   "metadata": {},
   "outputs": [
    {
     "name": "stdout",
     "output_type": "stream",
     "text": [
      "[[0 0 0 0 0 0 0 0 0 0 0 0 0 0 0 0 0 0 0 0]\n",
      " [0 0 0 0 0 0 0 0 0 0 0 0 0 0 0 0 0 0 0 0]\n",
      " [0 0 0 0 0 0 0 0 0 0 0 0 0 0 0 0 0 0 0 0]\n",
      " [0 0 0 0 0 0 0 0 0 0 0 0 0 0 0 0 0 0 0 0]\n",
      " [0 0 0 0 0 0 0 0 0 0 0 0 0 0 0 0 0 0 0 0]\n",
      " [0 0 0 0 0 0 0 0 0 0 0 0 0 0 0 0 0 0 0 0]\n",
      " [0 0 0 0 0 0 0 0 0 0 0 0 0 0 0 0 0 0 0 0]\n",
      " [0 0 0 0 0 0 0 0 0 0 0 0 0 0 0 0 0 0 0 0]\n",
      " [0 0 0 0 0 0 0 0 0 0 0 0 0 0 0 0 0 0 0 0]\n",
      " [1 1 1 1 1 1 1 1 1 1 1 1 1 1 1 1 1 1 0 0]\n",
      " [0 0 0 0 0 0 0 0 0 0 0 0 0 0 0 0 0 0 0 0]\n",
      " [0 0 0 0 0 0 0 0 0 0 0 0 0 0 0 0 0 0 0 0]\n",
      " [0 0 0 0 0 0 0 0 0 0 0 0 0 0 0 0 0 0 0 0]\n",
      " [0 0 0 0 0 0 0 0 0 0 0 0 0 0 0 0 0 0 0 0]\n",
      " [0 0 0 0 0 0 0 0 0 0 0 0 0 0 0 0 0 0 0 0]\n",
      " [0 0 0 0 0 0 0 0 0 0 0 0 0 0 0 0 0 0 0 0]\n",
      " [0 0 0 0 0 0 0 0 0 0 0 0 0 0 0 0 0 0 0 0]\n",
      " [0 0 0 0 0 0 0 0 0 0 0 0 0 0 0 0 0 0 0 0]\n",
      " [0 0 0 0 0 0 0 0 0 0 0 0 0 0 0 0 0 0 0 0]\n",
      " [0 0 0 0 0 0 0 0 0 0 0 0 0 0 0 0 0 0 0 0]]\n"
     ]
    }
   ],
   "source": [
    "print(grid)"
   ]
  },
  {
   "cell_type": "code",
   "execution_count": 1790,
   "metadata": {},
   "outputs": [
    {
     "data": {
      "text/plain": [
       "0"
      ]
     },
     "execution_count": 1790,
     "metadata": {},
     "output_type": "execute_result"
    }
   ],
   "source": [
    "check_occupancy(0,10)"
   ]
  },
  {
   "cell_type": "code",
   "execution_count": 77,
   "metadata": {},
   "outputs": [
    {
     "data": {
      "text/plain": [
       "(10, 10)"
      ]
     },
     "execution_count": 77,
     "metadata": {},
     "output_type": "execute_result"
    }
   ],
   "source": [
    "get_grid_coordinates(0, 10)"
   ]
  },
  {
   "cell_type": "code",
   "execution_count": null,
   "metadata": {
    "collapsed": true
   },
   "outputs": [],
   "source": []
  },
  {
   "cell_type": "code",
   "execution_count": 803,
   "metadata": {
    "scrolled": false
   },
   "outputs": [
    {
     "name": "stdout",
     "output_type": "stream",
     "text": [
      "[[0 0 0 0 0 0 0 0 0 0 0 0 0 0 0 0 0 0 0 0]\n",
      " [0 0 0 0 0 0 0 0 0 0 0 0 0 0 0 0 0 0 0 0]\n",
      " [0 0 0 0 0 0 0 0 0 0 0 0 0 0 0 0 0 0 0 0]\n",
      " [0 0 0 0 0 0 0 0 0 0 0 0 0 0 0 0 0 0 0 0]\n",
      " [0 0 0 0 0 0 0 0 0 0 0 0 0 0 0 0 0 0 0 0]\n",
      " [0 0 0 0 0 0 0 0 0 0 0 0 0 0 0 0 0 0 0 0]\n",
      " [0 0 0 0 0 0 0 0 0 0 0 0 0 0 0 0 0 0 0 0]\n",
      " [0 0 0 0 0 0 0 0 0 0 0 0 0 0 0 0 0 0 0 0]\n",
      " [0 0 0 0 0 0 0 0 0 0 0 0 0 0 0 0 0 0 0 0]\n",
      " [1 1 1 1 1 1 1 1 1 1 1 1 1 1 1 1 1 1 0 0]\n",
      " [0 0 0 0 0 0 0 0 0 0 0 0 0 0 0 0 0 0 0 0]\n",
      " [0 0 0 0 0 0 0 0 0 0 0 0 0 0 0 0 0 0 0 0]\n",
      " [0 0 0 0 0 0 0 0 0 0 0 0 0 0 0 0 0 0 0 0]\n",
      " [0 0 0 0 0 0 0 0 0 0 0 0 0 0 0 0 0 0 0 0]\n",
      " [0 0 0 0 0 0 0 0 0 0 0 0 0 0 0 0 0 0 0 0]\n",
      " [0 0 0 0 0 0 0 0 0 0 0 0 0 0 0 0 0 0 0 0]\n",
      " [0 0 0 0 0 0 0 0 0 0 0 0 0 0 0 0 0 0 0 0]\n",
      " [0 0 0 0 0 0 0 0 0 0 0 0 0 0 0 0 0 0 0 0]\n",
      " [0 0 0 0 0 0 0 0 0 0 0 0 0 0 0 0 0 0 0 0]\n",
      " [0 0 0 0 0 0 0 0 0 0 0 0 0 0 0 0 0 0 0 0]]\n"
     ]
    }
   ],
   "source": [
    "print(grid)"
   ]
  },
  {
   "cell_type": "code",
   "execution_count": 701,
   "metadata": {
    "collapsed": true
   },
   "outputs": [],
   "source": [
    "NUM_THETA_CELLS = 90"
   ]
  },
  {
   "cell_type": "markdown",
   "metadata": {},
   "source": [
    "Takes an angle (in radians) and returns which \"stack\" in the 3D configuration space\n",
    "this angle corresponds to. Angles near 0 go in the lower stacks while angles near \n",
    "2 * pi go in the higher stacks."
   ]
  },
  {
   "cell_type": "code",
   "execution_count": 704,
   "metadata": {
    "collapsed": true
   },
   "outputs": [],
   "source": [
    "def theta_to_stack_number(theta):\n",
    "  \n",
    "    new_theta = math.fmod((theta + 2 * math.pi),(2 * math.pi))\n",
    "    stack_number = (round(new_theta * NUM_THETA_CELLS / (2*math.pi))) % NUM_THETA_CELLS\n",
    "    return stack_number\n"
   ]
  },
  {
   "cell_type": "code",
   "execution_count": 705,
   "metadata": {},
   "outputs": [
    {
     "name": "stdout",
     "output_type": "stream",
     "text": [
      "14\n"
     ]
    }
   ],
   "source": [
    "print(theta_to_stack_number(1))"
   ]
  },
  {
   "cell_type": "code",
   "execution_count": 706,
   "metadata": {
    "collapsed": true
   },
   "outputs": [],
   "source": [
    "def idx (n):\n",
    "    return math.floor(n)\n",
    "    "
   ]
  },
  {
   "cell_type": "code",
   "execution_count": 707,
   "metadata": {
    "collapsed": true
   },
   "outputs": [],
   "source": [
    "class start:\n",
    "\n",
    "    def __init__(self, x, y, theta):\n",
    "        self.x = x\n",
    "        self.y = y\n",
    "        self.theta = theta\n",
    "        \n",
    "class goal:\n",
    "\n",
    "    def __init__(self, x, y):\n",
    "        self.x = x\n",
    "        self.y = y"
   ]
  },
  {
   "cell_type": "code",
   "execution_count": 828,
   "metadata": {},
   "outputs": [
    {
     "data": {
      "text/plain": [
       "True"
      ]
     },
     "execution_count": 828,
     "metadata": {},
     "output_type": "execute_result"
    }
   ],
   "source": [
    "deg_to_rad(90) == np.pi/2\n"
   ]
  },
  {
   "cell_type": "code",
   "execution_count": 862,
   "metadata": {},
   "outputs": [
    {
     "name": "stdout",
     "output_type": "stream",
     "text": [
      "[0.17453292519943295, 0.2617993877991494, 0.3490658503988659, 0.4363323129985824, 0.5235987755982988, 0.6108652381980153, 0.6981317007977318, 0.7853981633974483, 0.8726646259971648, 0.9599310885968813, 1.0471975511965976, 0.08726646259971647, 0.0, -0.08726646259971647, -0.17453292519943295, -0.2617993877991494, -0.3490658503988659, -0.4363323129985824, -0.5235987755982988, -0.6108652381980153, -0.6981317007977318]\n",
      "21\n"
     ]
    }
   ],
   "source": [
    "angle = delta_t(10, 10, 5)\n",
    "print(angle)\n",
    "print(len(angle))"
   ]
  },
  {
   "cell_type": "code",
   "execution_count": 870,
   "metadata": {
    "collapsed": true
   },
   "outputs": [],
   "source": [
    "def search(grid, start, goal):\n",
    "    # The opened array keeps track of the stack of States objects we are \n",
    "    # searching through.\n",
    "    opened = []\n",
    "    # 3D array of zeros with dimensions:\n",
    "    # (NUM_THETA_CELLS, grid x size, grid y size).\n",
    "    closed = [[[0 for x in range(len(grid[0]))] for y in range(len(grid))] for cell in range(NUM_THETA_CELLS)]\n",
    "    # 3D array with same dimensions. Will be filled with State() objects to keep \n",
    "    # track of the path through the grid. \n",
    "    came_from = [[[0 for x in range(len(grid[0]))] for y in range(len(grid))] for cell in range(NUM_THETA_CELLS)]\n",
    "\n",
    "    # Create new state object to start the search with.\n",
    "    x = start.x\n",
    "    y = start.y\n",
    "    \n",
    "    theta = start.theta\n",
    "    g = 0\n",
    "    f = heuristic(x, y, goal)\n",
    "    ste = state(x, y, theta, 0, f)\n",
    "    opened.append(ste)\n",
    "    print(\"Reached\")\n",
    "\n",
    "    # The range from 0 to 2pi has been discretized into NUM_THETA_CELLS cells. \n",
    "    # Here, theta_to_stack_number returns the cell that theta belongs to. \n",
    "    # Smaller thetas (close to 0 when normalized  into the range from 0 to 2pi) \n",
    "    # have lower stack numbers, and larger thetas (close to 2pi whe normalized)\n",
    "    # have larger stack numbers.\n",
    "    stack_number = theta_to_stack_number(ste.theta)\n",
    "    closed[stack_number][idx(ste.x)][idx(ste.y)] = 1\n",
    "    print(\"Reached\")\n",
    "\n",
    "    # Store our starting state. For other states, we will store the previous state \n",
    "    # in the path, but the starting state has no previous.\n",
    "    came_from[stack_number][idx(ste.x)][idx(ste.y)] = ste\n",
    "    print(\"Reached\")\n",
    "\n",
    "    # While there are still states to explore:\n",
    "    while opened:\n",
    "        # Sort the states by f-value and start search using the state with the \n",
    "        # lowest f-value. This is crucial to the A* algorithm; the f-value \n",
    "        # improves search efficiency by indicating where to look first.\n",
    "        opened.sort(key=lambda ste:ste.f)\n",
    "        current = opened.pop(0)\n",
    "        print(current.x , current.y, current.theta)\n",
    "        print(len(opened))\n",
    "\n",
    "        # Check if the x and y coordinates are in the same grid cell as the goal. \n",
    "        # (Note: The idx function returns the grid index for a given coordinate.)\n",
    "        if (idx(current.x) == goal.x) and (idx(current.y) == goal.y):\n",
    "            # If so, the trajectory has reached the goal.\n",
    "            print(path)\n",
    "            print(\"Reached\")\n",
    "            return path\n",
    "\n",
    "        # Otherwise, expand the current state to get a list of possible next states.\n",
    "        next_states = expand(current, goal)\n",
    "        \n",
    "        #print(len(next_states))\n",
    "        for i in range(len(next_states)):\n",
    "            \n",
    "            print(next_states[i].f)\n",
    "        for next_state in next_states:\n",
    "            # If we have expanded outside the grid, skip this next_state.\n",
    "            if next_states not in grid:\n",
    "                continue\n",
    "            # Otherwise, check that we haven't already visited this cell and\n",
    "            # that there is not an obstacle in the grid there.\n",
    "            stack_number = theta_to_stack_number(next_state.theta)\n",
    "            print(\"Reached\")\n",
    "            if closed_value[stack_number][idx(next_state.x)][idx(next_state.y)] == 0 and grid[idx(next_state.x)][idx(next_state.y)] == 0:\n",
    "                # The state can be added to the opened stack.\n",
    "                opened.append(next_state)\n",
    "                # The stack_number, idx(next_state.x), idx(next_state.y) tuple \n",
    "                # has now been visited, so it can be closed.\n",
    "                closed[stack_number][idx(next_state.x)][idx(next_state.y)] = 1\n",
    "                # The next_state came from the current state, and that is recorded.\n",
    "                came_from[stack_number][idx(next_state.x)][idx(next_state.y)] = current"
   ]
  },
  {
   "cell_type": "code",
   "execution_count": null,
   "metadata": {
    "collapsed": true
   },
   "outputs": [],
   "source": []
  },
  {
   "cell_type": "code",
   "execution_count": 871,
   "metadata": {},
   "outputs": [
    {
     "name": "stdout",
     "output_type": "stream",
     "text": [
      "Reached\n",
      "Reached\n",
      "Reached\n",
      "0 0 0\n",
      "0\n",
      "31.032648900821254\n",
      "31.032648900821254\n",
      "31.032648900821254\n",
      "31.032648900821254\n",
      "31.032648900821254\n",
      "31.032648900821254\n",
      "31.032648900821254\n",
      "31.032648900821254\n",
      "31.032648900821254\n",
      "31.032648900821254\n",
      "31.032648900821254\n",
      "31.032648900821254\n",
      "31.032648900821254\n",
      "31.032648900821254\n",
      "31.032648900821254\n"
     ]
    },
    {
     "name": "stderr",
     "output_type": "stream",
     "text": [
      "/home/ros/anaconda3/lib/python3.6/site-packages/ipykernel_launcher.py:64: DeprecationWarning: elementwise == comparison failed; this will raise an error in the future.\n"
     ]
    }
   ],
   "source": [
    "Start = start(0, 0, 0)\n",
    "Goal = goal(0, 30)\n",
    "search(grid, Start, Goal)"
   ]
  },
  {
   "cell_type": "code",
   "execution_count": 768,
   "metadata": {},
   "outputs": [
    {
     "name": "stdout",
     "output_type": "stream",
     "text": [
      "[[0 0 0 0 0 0 0 0 0 0 0 0 0 0 0 0 0 0 0 0 0]\n",
      " [0 0 0 0 0 0 0 0 0 0 0 0 0 0 0 0 0 0 0 0 0]\n",
      " [0 0 0 0 0 0 0 0 0 0 0 0 0 0 0 0 0 0 0 0 0]\n",
      " [0 0 0 0 0 0 0 0 0 0 0 0 0 0 0 0 0 0 0 0 0]\n",
      " [0 0 0 0 0 0 0 0 0 0 0 0 0 0 0 0 0 0 0 0 0]\n",
      " [0 0 0 0 0 0 0 0 0 0 0 0 0 0 0 0 0 0 0 0 0]\n",
      " [0 0 0 0 0 0 0 0 0 0 0 0 0 0 0 0 0 0 0 0 0]\n",
      " [0 0 0 0 0 0 0 0 0 0 0 0 0 0 0 0 0 0 0 0 0]\n",
      " [0 0 0 0 0 0 0 0 0 0 0 0 0 0 0 0 0 0 0 0 0]\n",
      " [1 1 1 1 1 1 1 1 1 1 1 1 1 1 1 1 1 1 0 0 0]\n",
      " [0 0 0 0 0 0 0 0 0 0 0 0 0 0 0 0 0 0 0 0 0]\n",
      " [0 0 0 0 0 0 0 0 0 0 0 0 0 0 0 0 0 0 0 0 0]\n",
      " [0 0 0 0 0 0 0 0 0 0 0 0 0 0 0 0 0 0 0 0 0]\n",
      " [0 0 0 0 0 0 0 0 0 0 0 0 0 0 0 0 0 0 0 0 0]\n",
      " [0 0 0 0 0 0 0 0 0 0 0 0 0 0 0 0 0 0 0 0 0]\n",
      " [0 0 0 0 0 0 0 0 0 0 0 0 0 0 0 0 0 0 0 0 0]\n",
      " [0 0 0 0 0 0 0 0 0 0 0 0 0 0 0 0 0 0 0 0 0]\n",
      " [0 0 0 0 0 0 0 0 0 0 0 0 0 0 0 0 0 0 0 0 0]\n",
      " [0 0 0 0 0 0 0 0 0 0 0 0 0 0 0 0 0 0 0 0 0]\n",
      " [0 0 0 0 0 0 0 0 0 0 0 0 0 0 0 0 0 0 0 0 0]\n",
      " [0 0 0 0 0 0 0 0 0 0 0 0 0 0 0 0 0 0 0 0 0]]\n"
     ]
    }
   ],
   "source": [
    "print(grid)"
   ]
  },
  {
   "cell_type": "code",
   "execution_count": 735,
   "metadata": {
    "collapsed": true
   },
   "outputs": [],
   "source": [
    "def search(grid, start, goal):\n",
    "    # The opened array keeps track of the stack of States objects we are \n",
    "    # searching through.\n",
    "    opened = []\n",
    "    # 3D array of zeros with dimensions:\n",
    "    # (NUM_THETA_CELLS, grid x size, grid y size).\n",
    "    closed = [[[0 for x in range(len(grid[0]))] for y in range(len(grid))] for cell in range(NUM_THETA_CELLS)]\n",
    "    # 3D array with same dimensions. Will be filled with State() objects to keep \n",
    "    # track of the path through the grid. \n",
    "    came_from = [[[0 for x in range(len(grid[0]))] for y in range(len(grid))] for cell in range(NUM_THETA_CELLS)]\n",
    "\n",
    "    # Create new state object to start the search with.\n",
    "    x = start.x\n",
    "    y = start.y\n",
    "    \n",
    "    theta = start.theta\n",
    "    g = 0\n",
    "    f = heuristic(x, y, goal)\n",
    "    v_state = state(x, y, theta, 0, f)\n",
    "    opened.append(v_state)\n",
    "\n",
    "    # The range from 0 to 2pi has been discretized into NUM_THETA_CELLS cells. \n",
    "    # Here, theta_to_stack_number returns the cell that theta belongs to. \n",
    "    # Smaller thetas (close to 0 when normalized  into the range from 0 to 2pi) \n",
    "    # have lower stack numbers, and larger thetas (close to 2pi whe normalized)\n",
    "    # have larger stack numbers.\n",
    "    stack_number = theta_to_stack_number(v_state.theta)\n",
    "    closed[stack_number][idx(v_state.x)][idx(v_state.y)] = 1\n",
    "\n",
    "    # Store our starting state. For other states, we will store the previous state \n",
    "    # in the path, but the starting state has no previous.\n",
    "    came_from[stack_number][idx(v_state.x)][idx(v_state.y)] = state\n",
    "\n",
    "    # While there are still states to explore:\n",
    "    while opened:\n",
    "        # Sort the states by f-value and start search using the state with the \n",
    "        # lowest f-value. This is crucial to the A* algorithm; the f-value \n",
    "        # improves search efficiency by indicating where to look first.\n",
    "        opened.sort(key=lambda v_state:v_state.f)\n",
    "        current = opened.pop(0)\n",
    "\n",
    "        # Check if the x and y coordinates are in the same grid cell as the goal. \n",
    "        # (Note: The idx function returns the grid index for a given coordinate.)\n",
    "        if (idx(current.x) == goal.x) and (idx(current.y) == goal.y):\n",
    "            # If so, the trajectory has reached the goal.\n",
    "            return path\n",
    "\n",
    "        # Otherwise, expand the current state to get a list of possible next states.\n",
    "        next_states = expand(current, goal)\n",
    "        for next_state in next_states:\n",
    "            # If we have expanded outside the grid, skip this next_state.\n",
    "            if next_states not in grid:\n",
    "                continue\n",
    "            # Otherwise, check that we haven't already visited this cell and\n",
    "            # that there is not an obstacle in the grid there.\n",
    "            stack_number = theta_to_stack_number(next_state.theta)\n",
    "            if closed_value[stack_number][idx(next_state.x)][idx(next_state.y)] == 0 and grid[idx(next_state.x)][idx(next_state.y)] == 0:\n",
    "                # The state can be added to the opened stack.\n",
    "                opened.append(next_state)\n",
    "                # The stack_number, idx(next_state.x), idx(next_state.y) tuple \n",
    "                # has now been visited, so it can be closed.\n",
    "                closed[stack_number][idx(next_state.x)][idx(next_state.y)] = 1\n",
    "                # The next_state came from the current state, and that is recorded.\n",
    "                came_from[stack_number][idx(next_state.x)][idx(next_state.y)] = current"
   ]
  },
  {
   "cell_type": "code",
   "execution_count": 769,
   "metadata": {},
   "outputs": [
    {
     "name": "stdout",
     "output_type": "stream",
     "text": [
      "Reached\n",
      "Reached\n",
      "Reached\n",
      "Reached\n"
     ]
    },
    {
     "name": "stderr",
     "output_type": "stream",
     "text": [
      "/home/ros/anaconda3/lib/python3.6/site-packages/ipykernel_launcher.py:58: DeprecationWarning: elementwise == comparison failed; this will raise an error in the future.\n"
     ]
    }
   ],
   "source": [
    "Start = start(0, 10, 0)\n",
    "Goal = goal(5, 30)\n",
    "search(grid, Start, Goal)"
   ]
  },
  {
   "cell_type": "code",
   "execution_count": 715,
   "metadata": {
    "collapsed": true
   },
   "outputs": [],
   "source": [
    "x = np.array([[[5,6],[7, 8]],[[9, 10],[11, 12]]])"
   ]
  },
  {
   "cell_type": "code",
   "execution_count": null,
   "metadata": {
    "collapsed": true
   },
   "outputs": [],
   "source": []
  }
 ],
 "metadata": {
  "kernelspec": {
   "display_name": "Python 3",
   "language": "python",
   "name": "python3"
  },
  "language_info": {
   "codemirror_mode": {
    "name": "ipython",
    "version": 3
   },
   "file_extension": ".py",
   "mimetype": "text/x-python",
   "name": "python",
   "nbconvert_exporter": "python",
   "pygments_lexer": "ipython3",
   "version": "3.6.3"
  }
 },
 "nbformat": 4,
 "nbformat_minor": 2
}
